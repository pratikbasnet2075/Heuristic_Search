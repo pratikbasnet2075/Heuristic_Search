{
  "nbformat": 4,
  "nbformat_minor": 0,
  "metadata": {
    "colab": {
      "provenance": [],
      "authorship_tag": "ABX9TyNMMewpy27k70JpSjvV/qKl",
      "include_colab_link": true
    },
    "kernelspec": {
      "name": "python3",
      "display_name": "Python 3"
    },
    "language_info": {
      "name": "python"
    }
  },
  "cells": [
    {
      "cell_type": "markdown",
      "metadata": {
        "id": "view-in-github",
        "colab_type": "text"
      },
      "source": [
        "<a href=\"https://colab.research.google.com/github/pratikbasnet2075/Heuristic_Search/blob/main/eight_puzzle_bfs.ipynb\" target=\"_parent\"><img src=\"https://colab.research.google.com/assets/colab-badge.svg\" alt=\"Open In Colab\"/></a>"
      ]
    },
    {
      "cell_type": "code",
      "execution_count": 1,
      "metadata": {
        "colab": {
          "base_uri": "https://localhost:8080/"
        },
        "id": "pIoEhDiUpUDk",
        "outputId": "b7d3bcf4-d43f-4169-b76e-e354406a34f7"
      },
      "outputs": [
        {
          "output_type": "stream",
          "name": "stdout",
          "text": [
            "Explored State: [[1, 0, 3], [4, 2, 5], [7, 8, 6]] Heuristic: 3\n",
            "Explored State: [[1, 2, 3], [4, 8, 5], [7, 0, 6]] Heuristic: 3\n",
            "Explored State: [[1, 2, 3], [0, 4, 5], [7, 8, 6]] Heuristic: 3\n",
            "Explored State: [[1, 2, 3], [4, 5, 0], [7, 8, 6]] Heuristic: 1\n",
            "Explored State: [[0, 1, 3], [4, 2, 5], [7, 8, 6]] Heuristic: 4\n",
            "Explored State: [[1, 3, 0], [4, 2, 5], [7, 8, 6]] Heuristic: 4\n",
            "Explored State: [[1, 2, 3], [4, 8, 5], [0, 7, 6]] Heuristic: 4\n",
            "Explored State: [[1, 2, 3], [4, 8, 5], [7, 6, 0]] Heuristic: 4\n",
            "Explored State: [[0, 2, 3], [1, 4, 5], [7, 8, 6]] Heuristic: 4\n",
            "Explored State: [[1, 2, 3], [7, 4, 5], [0, 8, 6]] Heuristic: 4\n",
            "Explored State: [[1, 2, 0], [4, 5, 3], [7, 8, 6]] Heuristic: 2\n",
            "Explored State: [[1, 2, 3], [4, 5, 6], [7, 8, 0]] Heuristic: 0\n",
            "Explored State: [[4, 1, 3], [0, 2, 5], [7, 8, 6]] Heuristic: 5\n",
            "Explored State: [[1, 3, 5], [4, 2, 0], [7, 8, 6]] Heuristic: 5\n",
            "Explored State: [[1, 2, 3], [0, 8, 5], [4, 7, 6]] Heuristic: 5\n",
            "Explored State: [[1, 2, 3], [4, 8, 0], [7, 6, 5]] Heuristic: 5\n",
            "Explored State: [[2, 0, 3], [1, 4, 5], [7, 8, 6]] Heuristic: 5\n",
            "Explored State: [[1, 2, 3], [7, 4, 5], [8, 0, 6]] Heuristic: 5\n",
            "Explored State: [[1, 0, 2], [4, 5, 3], [7, 8, 6]] Heuristic: 3\n",
            "\n",
            "Initial State: [[1, 2, 3], [4, 0, 5], [7, 8, 6]]\n",
            "Solution Path: ['right', 'down']\n"
          ]
        }
      ],
      "source": [
        "from collections import deque\n",
        "\n",
        "GOAL_STATE = [[1, 2, 3], [4, 5, 6], [7, 8, 0]]\n",
        "\n",
        "# Manhattan Distance Heuristic\n",
        "def manhattan(state):\n",
        "    distance = 0\n",
        "    for i in range(3):\n",
        "        for j in range(3):\n",
        "            val = state[i][j]\n",
        "            if val != 0:\n",
        "                goal_x, goal_y = (val - 1) // 3, (val - 1) % 3\n",
        "                distance += abs(i - goal_x) + abs(j - goal_y)\n",
        "    return distance\n",
        "\n",
        "# Convert 2D list to tuple for hashing\n",
        "def state_to_tuple(state):\n",
        "    return tuple([tuple(row) for row in state])\n",
        "\n",
        "# Get possible moves\n",
        "def get_neighbors(state):\n",
        "    directions = [(\"up\", -1, 0), (\"down\", 1, 0), (\"left\", 0, -1), (\"right\", 0, 1)]\n",
        "    neighbors = []\n",
        "    x, y = [(i, j) for i in range(3) for j in range(3) if state[i][j] == 0][0]\n",
        "\n",
        "    for name, dx, dy in directions:\n",
        "        nx, ny = x + dx, y + dy\n",
        "        if 0 <= nx < 3 and 0 <= ny < 3:\n",
        "            new_state = [row[:] for row in state]\n",
        "            new_state[x][y], new_state[nx][ny] = new_state[nx][ny], new_state[x][y]\n",
        "            neighbors.append((name, new_state))\n",
        "    return neighbors\n",
        "\n",
        "def bfs(start):\n",
        "    queue = deque()\n",
        "    visited = set()\n",
        "    queue.append((start, []))\n",
        "\n",
        "    while queue:\n",
        "        current, path = queue.popleft()\n",
        "        visited.add(state_to_tuple(current))\n",
        "\n",
        "        if current == GOAL_STATE:\n",
        "            return path\n",
        "\n",
        "        for move, neighbor in get_neighbors(current):\n",
        "            if state_to_tuple(neighbor) not in visited:\n",
        "                queue.append((neighbor, path + [move]))\n",
        "                print(\"Explored State:\", neighbor, \"Heuristic:\", manhattan(neighbor))\n",
        "\n",
        "    return None\n",
        "\n",
        "# Test\n",
        "initial_state = [[1, 2, 3], [4, 0, 5], [7, 8, 6]]\n",
        "solution = bfs(initial_state)\n",
        "\n",
        "print(\"\\nInitial State:\", initial_state)\n",
        "print(\"Solution Path:\", solution)"
      ]
    }
  ]
}