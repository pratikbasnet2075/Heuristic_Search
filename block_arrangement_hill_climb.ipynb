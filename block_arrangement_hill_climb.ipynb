{
  "nbformat": 4,
  "nbformat_minor": 0,
  "metadata": {
    "colab": {
      "provenance": [],
      "authorship_tag": "ABX9TyODP2Y+kZ6zfvONuw/tHs2t",
      "include_colab_link": true
    },
    "kernelspec": {
      "name": "python3",
      "display_name": "Python 3"
    },
    "language_info": {
      "name": "python"
    }
  },
  "cells": [
    {
      "cell_type": "markdown",
      "metadata": {
        "id": "view-in-github",
        "colab_type": "text"
      },
      "source": [
        "<a href=\"https://colab.research.google.com/github/pratikbasnet2075/Heuristic_Search/blob/main/block_arrangement_hill_climb.ipynb\" target=\"_parent\"><img src=\"https://colab.research.google.com/assets/colab-badge.svg\" alt=\"Open In Colab\"/></a>"
      ]
    },
    {
      "cell_type": "code",
      "execution_count": 1,
      "metadata": {
        "colab": {
          "base_uri": "https://localhost:8080/"
        },
        "id": "EjmK-ipYoLmN",
        "outputId": "696befd9-4d07-456d-b9aa-32a7ad507dc8"
      },
      "outputs": [
        {
          "output_type": "stream",
          "name": "stdout",
          "text": [
            "Current State: ['C', 'A', 'D', 'B'] Heuristic: 4\n",
            "Current State: ['A', 'C', 'D', 'B'] Heuristic: 3\n",
            "Current State: ['A', 'D', 'C', 'B'] Heuristic: 2\n",
            "\n",
            "Initial Stack: ['C', 'A', 'D', 'B']\n",
            "Final Stack: ['A', 'D', 'C', 'B']\n",
            "Moves: ['Swap 0 and 1', 'Swap 1 and 2']\n"
          ]
        }
      ],
      "source": [
        "import random\n",
        "\n",
        "GOAL = ['A', 'B', 'C', 'D']\n",
        "\n",
        "# Heuristic: number of misplaced blocks\n",
        "def heuristic(state):\n",
        "    return sum(1 for i in range(len(state)) if state[i] != GOAL[i])\n",
        "\n",
        "def get_neighbors(state):\n",
        "    neighbors = []\n",
        "    for i in range(len(state) - 1):\n",
        "        neighbor = state[:]\n",
        "        neighbor[i], neighbor[i + 1] = neighbor[i + 1], neighbor[i]\n",
        "        neighbors.append((f\"Swap {i} and {i+1}\", neighbor))\n",
        "    return neighbors\n",
        "\n",
        "def hill_climb(start):\n",
        "    current = start\n",
        "    path = []\n",
        "    while True:\n",
        "        current_h = heuristic(current)\n",
        "        print(\"Current State:\", current, \"Heuristic:\", current_h)\n",
        "        neighbors = get_neighbors(current)\n",
        "        next_state = min(neighbors, key=lambda x: heuristic(x[1]), default=(None, current))\n",
        "\n",
        "        if heuristic(next_state[1]) >= current_h:\n",
        "            break\n",
        "\n",
        "        current = next_state[1]\n",
        "        path.append(next_state[0])\n",
        "\n",
        "        if current == GOAL:\n",
        "            break\n",
        "\n",
        "    return current, path\n",
        "\n",
        "# Test\n",
        "initial_stack = ['C', 'A', 'D', 'B']\n",
        "final, path = hill_climb(initial_stack)\n",
        "\n",
        "print(\"\\nInitial Stack:\", initial_stack)\n",
        "print(\"Final Stack:\", final)\n",
        "print(\"Moves:\", path)"
      ]
    }
  ]
}